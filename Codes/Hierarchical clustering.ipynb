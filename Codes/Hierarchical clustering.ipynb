{
 "cells": [
  {
   "cell_type": "code",
   "execution_count": 1,
   "metadata": {},
   "outputs": [],
   "source": [
    "#import libraries\n",
    "import pandas as pd\n",
    "import numpy as np\n",
    "import datetime\n",
    "from matplotlib import pyplot as plt\n"
   ]
  },
  {
   "cell_type": "code",
   "execution_count": 2,
   "metadata": {},
   "outputs": [],
   "source": [
    "# import dataset\n",
    "dataset=pd.read_csv('Clustering data.csv')"
   ]
  },
  {
   "cell_type": "code",
   "execution_count": 3,
   "metadata": {},
   "outputs": [],
   "source": [
    "# get year,day and month info from date column\n",
    "dataset['Open Date'] = pd.to_datetime(dataset['Open Date']) \n",
    "dataset['dayOfWeek'] = dataset['Open Date'].dt.day_name() \n",
    "dataset['month'] = dataset['Open Date'].dt.month\n",
    "dataset['year'] = dataset['Open Date'].dt.year"
   ]
  },
  {
   "cell_type": "code",
   "execution_count": 4,
   "metadata": {},
   "outputs": [],
   "source": [
    "# impute columns based on legened provided\n",
    "dataset['Pharmacy_IND'] = dataset['Pharmacy_IND'].replace(['N','Y'],[0,1])\n",
    "dataset['Pickup_IND'] = dataset['Pickup_IND'].replace(['N','Y'],[0,1])\n",
    "dataset['SFS_IND'] = dataset['SFS_IND'].replace(['N','Y'],[0,1])\n",
    "dataset['COMP_IND'] = dataset['COMP_IND'].replace(['-'],[np.nan])\n",
    "dataset['COMP_IND'] = dataset['COMP_IND'].replace(['N','Y'],[0,1])\n",
    "dataset['College_STORE_IND'] = dataset['College_STORE_IND'].replace(['N','Y'],[0,1])\n",
    "dataset['dayOfWeek'] = dataset['dayOfWeek'].replace(['Monday','Tuesday','Wednesday','Thursday','Friday','Saturday','Sunday'],[0,0,0,0,0,1,1])\n"
   ]
  },
  {
   "cell_type": "code",
   "execution_count": 5,
   "metadata": {},
   "outputs": [],
   "source": [
    "#select required columns\n",
    "data=dataset[['StoreNum','State Provinc','Market','Region','Locality Code','Climate Code','Pharmacy_IND','Pickup_IND','SFS_IND','COMP_IND','College_STORE_IND','INCOME_CD','ETHNICITY_CD','dayOfWeek','month','year']]"
   ]
  },
  {
   "cell_type": "code",
   "execution_count": 6,
   "metadata": {},
   "outputs": [
    {
     "data": {
      "text/plain": [
       "StoreNum              0.00\n",
       "State Provinc         0.00\n",
       "Market                0.00\n",
       "Region               47.54\n",
       "Locality Code        61.62\n",
       "Climate Code         64.08\n",
       "Pharmacy_IND         17.25\n",
       "Pickup_IND            0.35\n",
       "SFS_IND               8.80\n",
       "COMP_IND             60.21\n",
       "College_STORE_IND    17.25\n",
       "INCOME_CD            61.27\n",
       "ETHNICITY_CD         61.62\n",
       "dayOfWeek             0.00\n",
       "month                 0.00\n",
       "year                  0.00\n",
       "dtype: float64"
      ]
     },
     "execution_count": 6,
     "metadata": {},
     "output_type": "execute_result"
    }
   ],
   "source": [
    "# calculate percent of null values within each column\n",
    "data.isna().mean().round(4) * 100"
   ]
  },
  {
   "cell_type": "code",
   "execution_count": 7,
   "metadata": {},
   "outputs": [],
   "source": [
    "# select required columns that we want to train\n",
    "master_data=data.drop(['StoreNum','State Provinc','Market','Region','month','year'],axis=1)"
   ]
  },
  {
   "cell_type": "code",
   "execution_count": 8,
   "metadata": {},
   "outputs": [
    {
     "data": {
      "text/plain": [
       "(98, 10)"
      ]
     },
     "execution_count": 8,
     "metadata": {},
     "output_type": "execute_result"
    }
   ],
   "source": [
    "master_data=master_data.dropna()\n",
    "master_data.shape"
   ]
  },
  {
   "cell_type": "code",
   "execution_count": 9,
   "metadata": {},
   "outputs": [],
   "source": [
    "# Convert the data frame into a 2-D array\n",
    "X = master_data.iloc[:,:].values"
   ]
  },
  {
   "cell_type": "code",
   "execution_count": 10,
   "metadata": {},
   "outputs": [
    {
     "data": {
      "image/png": "[encoded data removed]",
      "text/plain": [
       "<Figure size 432x288 with 1 Axes>"
      ]
     },
     "metadata": {
      "needs_background": "light"
     },
     "output_type": "display_data"
    }
   ],
   "source": [
    "\n",
    "#Plot dendrogram to identify optimum number of clusters\n",
    "import scipy.cluster.hierarchy as sch\n",
    "dendrogram = sch.dendrogram(sch.linkage(X, method = 'ward'))\n",
    "plt.title('Dendrogram')\n",
    "plt.xlabel('Customers')\n",
    "plt.ylabel('Euclidean distances')\n",
    "plt.show()"
   ]
  },
  {
   "cell_type": "code",
   "execution_count": 11,
   "metadata": {},
   "outputs": [],
   "source": [
    "# tarin the model to segregate the data into different clusters\n",
    "from sklearn.cluster import AgglomerativeClustering\n",
    "hc = AgglomerativeClustering(n_clusters = 5, affinity = 'euclidean', linkage = 'ward')\n",
    "y_hc = hc.fit_predict(X)"
   ]
  },
  {
   "cell_type": "code",
   "execution_count": 12,
   "metadata": {},
   "outputs": [
    {
     "name": "stdout",
     "output_type": "stream",
     "text": [
      "[2 0 0 2 0 1 0 0 3 2 0 0 2 0 2 3 2 0 4 0 1 0 3 1 0 0 2 2 0 0 4 0 1 3 1 2 1\n",
      " 3 2 1 3 2 2 0 0 0 0 3 3 3 2 0 4 1 1 2 1 0 0 3 2 0 0 3 2 1 3 3 0 2 3 4 3 0\n",
      " 2 1 0 2 1 1 2 2 2 3 2 1 2 1 1 1 1 1 1 3 3 1 4 0]\n"
     ]
    }
   ],
   "source": [
    "print(y_hc)"
   ]
  },
  {
   "cell_type": "code",
   "execution_count": 13,
   "metadata": {},
   "outputs": [],
   "source": [
    "master_data.insert(0,'cluster',y_hc)"
   ]
  }
 ],
 "metadata": {
  "kernelspec": {
   "display_name": "Python 3",
   "language": "python",
   "name": "python3"
  },
  "language_info": {
   "codemirror_mode": {
    "name": "ipython",
    "version": 3
   },
   "file_extension": ".py",
   "mimetype": "text/x-python",
   "name": "python",
   "nbconvert_exporter": "python",
   "pygments_lexer": "ipython3",
   "version": "3.7.3"
  }
 },
 "nbformat": 4,
 "nbformat_minor": 2
}
