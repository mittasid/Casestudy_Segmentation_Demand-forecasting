{
 "cells": [
  {
   "cell_type": "markdown",
   "metadata": {
    "colab_type": "text",
    "id": "LeamvpPVXuS_"
   },
   "source": [
    "# Random Forest Regression"
   ]
  },
  {
   "cell_type": "markdown",
   "metadata": {
    "colab_type": "text",
    "id": "O2wvZ7SKXzVC"
   },
   "source": [
    "## Importing the libraries"
   ]
  },
  {
   "cell_type": "code",
   "execution_count": 1,
   "metadata": {
    "colab": {},
    "colab_type": "code",
    "id": "PVmESEFZX4Ig"
   },
   "outputs": [],
   "source": [
    "import numpy as np\n",
    "import matplotlib.pyplot as plt\n",
    "import pandas as pd"
   ]
  },
  {
   "cell_type": "markdown",
   "metadata": {
    "colab_type": "text",
    "id": "zgbK_F8-X7em"
   },
   "source": [
    "## Importing the dataset"
   ]
  },
  {
   "cell_type": "code",
   "execution_count": 2,
   "metadata": {
    "colab": {},
    "colab_type": "code",
    "id": "adBE4tjQX_Bh"
   },
   "outputs": [
    {
     "data": {
      "text/html": [
       "<div>\n",
       "<style scoped>\n",
       "    .dataframe tbody tr th:only-of-type {\n",
       "        vertical-align: middle;\n",
       "    }\n",
       "\n",
       "    .dataframe tbody tr th {\n",
       "        vertical-align: top;\n",
       "    }\n",
       "\n",
       "    .dataframe thead th {\n",
       "        text-align: right;\n",
       "    }\n",
       "</style>\n",
       "<table border=\"1\" class=\"dataframe\">\n",
       "  <thead>\n",
       "    <tr style=\"text-align: right;\">\n",
       "      <th></th>\n",
       "      <th>Week</th>\n",
       "      <th>StoreNum</th>\n",
       "      <th>Category</th>\n",
       "      <th>Sales</th>\n",
       "      <th>Units</th>\n",
       "      <th>profit</th>\n",
       "      <th>week no</th>\n",
       "      <th>Year</th>\n",
       "    </tr>\n",
       "  </thead>\n",
       "  <tbody>\n",
       "    <tr>\n",
       "      <th>0</th>\n",
       "      <td>201649</td>\n",
       "      <td>57</td>\n",
       "      <td>2</td>\n",
       "      <td>679064.37</td>\n",
       "      <td>12885</td>\n",
       "      <td>248695.0438</td>\n",
       "      <td>49</td>\n",
       "      <td>2016</td>\n",
       "    </tr>\n",
       "    <tr>\n",
       "      <th>1</th>\n",
       "      <td>201649</td>\n",
       "      <td>57</td>\n",
       "      <td>1</td>\n",
       "      <td>1268409.60</td>\n",
       "      <td>23766</td>\n",
       "      <td>380203.0771</td>\n",
       "      <td>49</td>\n",
       "      <td>2016</td>\n",
       "    </tr>\n",
       "    <tr>\n",
       "      <th>2</th>\n",
       "      <td>201649</td>\n",
       "      <td>57</td>\n",
       "      <td>5</td>\n",
       "      <td>94744.94</td>\n",
       "      <td>4205</td>\n",
       "      <td>34604.2306</td>\n",
       "      <td>49</td>\n",
       "      <td>2016</td>\n",
       "    </tr>\n",
       "    <tr>\n",
       "      <th>3</th>\n",
       "      <td>201649</td>\n",
       "      <td>57</td>\n",
       "      <td>35</td>\n",
       "      <td>1446.67</td>\n",
       "      <td>87</td>\n",
       "      <td>188.0671</td>\n",
       "      <td>49</td>\n",
       "      <td>2016</td>\n",
       "    </tr>\n",
       "    <tr>\n",
       "      <th>4</th>\n",
       "      <td>201649</td>\n",
       "      <td>57</td>\n",
       "      <td>7</td>\n",
       "      <td>1475152.07</td>\n",
       "      <td>24952</td>\n",
       "      <td>581748.4376</td>\n",
       "      <td>49</td>\n",
       "      <td>2016</td>\n",
       "    </tr>\n",
       "  </tbody>\n",
       "</table>\n",
       "</div>"
      ],
      "text/plain": [
       "     Week  StoreNum  Category       Sales  Units        profit  week no  Year\n",
       "0  201649        57         2   679064.37   12885  248695.0438       49  2016\n",
       "1  201649        57         1  1268409.60   23766  380203.0771       49  2016\n",
       "2  201649        57         5    94744.94    4205   34604.2306       49  2016\n",
       "3  201649        57        35     1446.67      87     188.0671       49  2016\n",
       "4  201649        57         7  1475152.07   24952  581748.4376       49  2016"
      ]
     },
     "execution_count": 2,
     "metadata": {},
     "output_type": "execute_result"
    }
   ],
   "source": [
    "dataset = pd.read_csv('Sales forecast final.csv')\n",
    "testdata=  pd.read_csv('testdata.csv')\n",
    "dataset.head()"
   ]
  },
  {
   "cell_type": "markdown",
   "metadata": {},
   "source": [
    "# Data Preprocessing"
   ]
  },
  {
   "cell_type": "code",
   "execution_count": 3,
   "metadata": {},
   "outputs": [],
   "source": [
    "#convert week number to int\n",
    "dataset['week no']=dataset['week no'].astype('int')\n"
   ]
  },
  {
   "cell_type": "code",
   "execution_count": 4,
   "metadata": {},
   "outputs": [
    {
     "data": {
      "text/html": [
       "<div>\n",
       "<style scoped>\n",
       "    .dataframe tbody tr th:only-of-type {\n",
       "        vertical-align: middle;\n",
       "    }\n",
       "\n",
       "    .dataframe tbody tr th {\n",
       "        vertical-align: top;\n",
       "    }\n",
       "\n",
       "    .dataframe thead th {\n",
       "        text-align: right;\n",
       "    }\n",
       "</style>\n",
       "<table border=\"1\" class=\"dataframe\">\n",
       "  <thead>\n",
       "    <tr style=\"text-align: right;\">\n",
       "      <th></th>\n",
       "      <th>week no</th>\n",
       "      <th>Category</th>\n",
       "      <th>Year</th>\n",
       "      <th>Sales</th>\n",
       "    </tr>\n",
       "  </thead>\n",
       "  <tbody>\n",
       "    <tr>\n",
       "      <th>0</th>\n",
       "      <td>49</td>\n",
       "      <td>2</td>\n",
       "      <td>2016</td>\n",
       "      <td>679064.37</td>\n",
       "    </tr>\n",
       "    <tr>\n",
       "      <th>1</th>\n",
       "      <td>49</td>\n",
       "      <td>1</td>\n",
       "      <td>2016</td>\n",
       "      <td>1268409.60</td>\n",
       "    </tr>\n",
       "    <tr>\n",
       "      <th>2</th>\n",
       "      <td>49</td>\n",
       "      <td>5</td>\n",
       "      <td>2016</td>\n",
       "      <td>94744.94</td>\n",
       "    </tr>\n",
       "    <tr>\n",
       "      <th>3</th>\n",
       "      <td>49</td>\n",
       "      <td>35</td>\n",
       "      <td>2016</td>\n",
       "      <td>1446.67</td>\n",
       "    </tr>\n",
       "    <tr>\n",
       "      <th>4</th>\n",
       "      <td>49</td>\n",
       "      <td>7</td>\n",
       "      <td>2016</td>\n",
       "      <td>1475152.07</td>\n",
       "    </tr>\n",
       "  </tbody>\n",
       "</table>\n",
       "</div>"
      ],
      "text/plain": [
       "   week no  Category  Year       Sales\n",
       "0       49         2  2016   679064.37\n",
       "1       49         1  2016  1268409.60\n",
       "2       49         5  2016    94744.94\n",
       "3       49        35  2016     1446.67\n",
       "4       49         7  2016  1475152.07"
      ]
     },
     "execution_count": 4,
     "metadata": {},
     "output_type": "execute_result"
    }
   ],
   "source": [
    "#select required columns\n",
    "data=dataset[['week no','Category','Year','Sales']]\n",
    "data.head()"
   ]
  },
  {
   "cell_type": "code",
   "execution_count": 5,
   "metadata": {},
   "outputs": [],
   "source": [
    "# Select the dependant and independant variables\n",
    "X = data.iloc[:, :-1].values\n",
    "y = data.iloc[:, -1].values"
   ]
  },
  {
   "cell_type": "code",
   "execution_count": 6,
   "metadata": {},
   "outputs": [
    {
     "name": "stderr",
     "output_type": "stream",
     "text": [
      "C:\\Users\\mp21865\\AppData\\Local\\Continuum\\anaconda3\\lib\\site-packages\\sklearn\\preprocessing\\_encoders.py:415: FutureWarning: The handling of integer data will change in version 0.22. Currently, the categories are determined based on the range [0, max(values)], while in the future they will be determined based on the unique values.\n",
      "If you want the future behaviour and silence this warning, you can specify \"categories='auto'\".\n",
      "In case you used a LabelEncoder before this OneHotEncoder to convert the categories to integers, then you can now use the OneHotEncoder directly.\n",
      "  warnings.warn(msg, FutureWarning)\n"
     ]
    }
   ],
   "source": [
    "#encode categorical variables ('category' and 'Year')\n",
    "from sklearn.compose import ColumnTransformer\n",
    "from sklearn.preprocessing import OneHotEncoder\n",
    "ct=ColumnTransformer(transformers=[('encoder',OneHotEncoder(),[1,2])],remainder='passthrough',sparse_threshold=0)\n",
    "X=np.array(ct.fit_transform(X))\n"
   ]
  },
  {
   "cell_type": "markdown",
   "metadata": {
    "colab_type": "text",
    "id": "ptNjcy7bOBlD"
   },
   "source": [
    "## Splitting the dataset into the Training set and Test set"
   ]
  },
  {
   "cell_type": "code",
   "execution_count": 7,
   "metadata": {
    "colab": {},
    "colab_type": "code",
    "id": "C7NdofoCOFQF"
   },
   "outputs": [],
   "source": [
    "from sklearn.model_selection import train_test_split\n",
    "X_train, X_test, y_train, y_test = train_test_split(X, y, test_size = 0.2, random_state = 0)"
   ]
  },
  {
   "cell_type": "markdown",
   "metadata": {
    "colab_type": "text",
    "id": "v4S2fyIBYDcu"
   },
   "source": [
    "## Training the Random Forest Regression model "
   ]
  },
  {
   "cell_type": "code",
   "execution_count": 8,
   "metadata": {
    "colab": {},
    "colab_type": "code",
    "id": "o8dOCoJ1YKMc"
   },
   "outputs": [
    {
     "data": {
      "text/plain": [
       "RandomForestRegressor(bootstrap=True, criterion='mse', max_depth=None,\n",
       "                      max_features='auto', max_leaf_nodes=None,\n",
       "                      min_impurity_decrease=0.0, min_impurity_split=None,\n",
       "                      min_samples_leaf=1, min_samples_split=2,\n",
       "                      min_weight_fraction_leaf=0.0, n_estimators=10,\n",
       "                      n_jobs=None, oob_score=False, random_state=0, verbose=0,\n",
       "                      warm_start=False)"
      ]
     },
     "execution_count": 8,
     "metadata": {},
     "output_type": "execute_result"
    }
   ],
   "source": [
    "from sklearn.ensemble import RandomForestRegressor\n",
    "regressor = RandomForestRegressor(n_estimators = 10, random_state = 0)\n",
    "regressor.fit(X_train, y_train)"
   ]
  },
  {
   "cell_type": "markdown",
   "metadata": {
    "colab_type": "text",
    "id": "DM_jh0frOPKE"
   },
   "source": [
    "## Predicting the Test set results"
   ]
  },
  {
   "cell_type": "code",
   "execution_count": 9,
   "metadata": {
    "colab": {},
    "colab_type": "code",
    "id": "JGa9ZfM4OTNw",
    "scrolled": false
   },
   "outputs": [
    {
     "name": "stdout",
     "output_type": "stream",
     "text": [
      "[[ 1.01e+06  1.05e+06]\n",
      " [ 7.51e+05  1.05e+06]\n",
      " [ 6.25e+05  6.39e+05]\n",
      " [ 1.95e+06  2.25e+06]\n",
      " [ 6.01e+01  4.00e+01]\n",
      " [ 2.05e+06  1.27e+06]\n",
      " [ 2.75e+05  2.29e+05]\n",
      " [ 1.86e+06  2.21e+06]\n",
      " [ 9.34e+02  9.95e+02]\n",
      " [ 2.63e+06  3.66e+06]\n",
      " [ 3.01e+05  3.63e+05]\n",
      " [ 3.45e+02  2.40e+02]\n",
      " [ 7.80e-02  4.00e-02]\n",
      " [ 5.01e+04  5.05e+04]\n",
      " [ 9.65e+04  1.12e+05]\n",
      " [ 1.40e+06  1.28e+06]\n",
      " [ 2.56e+01  3.15e+02]\n",
      " [ 2.22e+06  1.78e+06]\n",
      " [ 3.89e+05  2.60e+05]\n",
      " [ 2.80e+05  2.96e+05]\n",
      " [ 4.58e+05  3.41e+05]\n",
      " [ 2.66e+02  2.38e+02]\n",
      " [ 2.03e+06  2.52e+06]\n",
      " [ 1.82e+06  2.25e+06]\n",
      " [ 5.67e+05  4.31e+05]\n",
      " [ 1.54e+06  1.42e+06]\n",
      " [ 4.98e+02  4.58e+02]\n",
      " [ 1.50e+06  1.17e+06]\n",
      " [ 1.31e+06  2.19e+06]\n",
      " [ 1.83e+06  1.01e+06]\n",
      " [ 2.64e+06  1.69e+06]\n",
      " [ 2.09e+05  2.10e+05]\n",
      " [ 5.53e+05  1.40e+05]\n",
      " [ 1.01e+05  9.00e+04]\n",
      " [ 3.11e+05  2.68e+05]\n",
      " [ 3.97e+06  3.82e+06]\n",
      " [ 1.44e+05  1.32e+05]\n",
      " [ 2.28e+05  2.40e+05]\n",
      " [ 1.23e+06  2.35e+06]\n",
      " [ 2.19e+05  2.03e+05]\n",
      " [ 8.53e+02  9.18e+02]\n",
      " [ 3.37e+05  2.20e+05]\n",
      " [ 7.80e-02  0.00e+00]\n",
      " [ 2.29e+05  2.59e+05]\n",
      " [ 2.64e+05  2.70e+05]\n",
      " [ 2.00e+05  2.29e+05]\n",
      " [ 3.32e+06  3.48e+06]\n",
      " [ 5.23e+05  5.09e+05]\n",
      " [ 1.81e+02  3.07e+02]\n",
      " [ 2.81e+05  3.13e+05]\n",
      " [ 2.03e+05  1.97e+05]\n",
      " [ 1.29e+06  1.63e+06]\n",
      " [ 1.22e+06  2.17e+06]\n",
      " [ 1.95e+05  1.77e+05]\n",
      " [ 2.54e+05  2.57e+05]\n",
      " [ 1.68e+02  1.05e+02]\n",
      " [ 2.49e+05  2.35e+05]\n",
      " [ 2.12e+05  1.86e+05]\n",
      " [ 4.35e+05  5.98e+05]\n",
      " [ 1.31e+06  1.19e+06]\n",
      " [ 5.28e+02  9.00e+02]\n",
      " [ 2.08e+02  1.74e+02]\n",
      " [ 1.55e+06  1.70e+06]\n",
      " [ 1.86e+06  1.41e+06]\n",
      " [ 2.86e+05  2.38e+05]\n",
      " [ 9.45e+05  9.23e+05]\n",
      " [ 1.95e+02  6.36e+02]\n",
      " [ 4.75e+04  6.00e+04]\n",
      " [ 2.03e+05  1.65e+05]\n",
      " [ 1.55e+06  1.34e+06]\n",
      " [ 2.69e+02  9.84e+01]\n",
      " [ 3.05e+05  2.89e+05]\n",
      " [ 1.54e+06  1.35e+06]\n",
      " [ 4.58e+05  6.61e+05]\n",
      " [ 2.35e+02  5.00e+01]\n",
      " [ 4.35e+05  3.98e+05]\n",
      " [ 1.54e+06  1.61e+06]\n",
      " [ 3.37e+06  4.51e+06]\n",
      " [ 1.12e+05  1.40e+05]\n",
      " [ 3.51e+02  5.00e+02]\n",
      " [ 1.90e+05  2.58e+05]\n",
      " [ 1.19e+06  1.22e+06]\n",
      " [ 1.25e+05  1.15e+05]\n",
      " [ 3.74e+02  1.46e+02]\n",
      " [ 2.66e+05  1.92e+05]\n",
      " [ 1.11e+05  1.34e+05]\n",
      " [ 2.05e+05  2.44e+05]\n",
      " [ 1.76e+05  9.47e+04]\n",
      " [ 3.40e+05  2.78e+05]\n",
      " [ 6.59e+02 -3.75e+00]\n",
      " [ 6.47e+04  7.57e+04]\n",
      " [ 1.74e+05  1.41e+05]\n",
      " [ 1.11e+06  1.39e+06]\n",
      " [ 1.76e+05  6.26e+04]\n",
      " [ 4.08e+05  3.60e+05]\n",
      " [ 2.24e+06  1.63e+06]\n",
      " [ 1.77e+06  1.43e+06]\n",
      " [ 1.19e+03  1.71e+03]\n",
      " [ 2.00e+05  1.57e+05]\n",
      " [ 5.03e+05  4.00e+05]\n",
      " [ 4.48e+05  6.23e+05]\n",
      " [ 1.89e+06  2.27e+06]\n",
      " [ 2.95e+05  2.40e+05]\n",
      " [ 6.24e+05  6.44e+05]\n",
      " [ 4.29e+05  2.19e+05]\n",
      " [ 3.97e+06  3.16e+06]\n",
      " [ 7.69e+04  7.64e+04]\n",
      " [ 2.24e+06  3.77e+06]\n",
      " [ 6.97e+04  4.84e+04]\n",
      " [ 6.83e+05  6.94e+05]\n",
      " [ 1.04e+06  7.79e+05]\n",
      " [ 1.45e+06  1.23e+06]\n",
      " [ 2.06e+05  2.76e+05]\n",
      " [ 1.23e+06  1.09e+06]\n",
      " [ 8.48e+05  6.72e+05]\n",
      " [ 1.84e+06  1.81e+06]\n",
      " [ 1.79e+06  1.05e+06]\n",
      " [ 1.76e+05  1.34e+05]\n",
      " [ 2.44e+06  2.48e+06]\n",
      " [ 8.73e+04  1.68e+03]\n",
      " [ 1.50e+06  1.16e+06]\n",
      " [ 3.87e+05  2.49e+05]\n",
      " [ 6.93e+05  6.28e+05]\n",
      " [ 1.80e+06  1.49e+06]\n",
      " [ 4.55e+05  5.37e+05]\n",
      " [ 9.99e+04  1.16e+05]\n",
      " [ 4.86e+05  5.84e+05]\n",
      " [ 3.36e+02  6.30e+02]\n",
      " [ 1.12e+05  9.78e+04]\n",
      " [ 1.19e+05  1.58e+05]\n",
      " [ 2.42e+05  2.22e+05]\n",
      " [ 8.30e+01  6.63e+01]\n",
      " [ 8.42e+02  9.60e+02]\n",
      " [ 1.84e+06  2.22e+06]\n",
      " [ 7.09e+04  6.44e+04]\n",
      " [ 8.71e+04  7.32e+04]\n",
      " [ 5.84e+05  5.50e+05]\n",
      " [ 3.51e+06  1.32e+06]\n",
      " [ 1.16e+06  7.92e+05]\n",
      " [ 3.02e+06  2.77e+06]\n",
      " [ 1.91e+05  1.05e+02]\n",
      " [ 8.73e+04  2.25e+02]\n",
      " [ 2.15e+06  1.48e+06]\n",
      " [ 1.86e+05  2.28e+05]\n",
      " [ 2.37e+02  1.65e+02]\n",
      " [ 1.48e-01  6.00e-02]\n",
      " [ 7.12e+04  7.85e+04]\n",
      " [ 1.60e+05  9.91e+04]\n",
      " [ 6.47e+04  1.14e+05]\n",
      " [ 4.85e+05  6.99e+05]\n",
      " [ 3.20e+05  3.36e+05]\n",
      " [ 3.34e+05  2.84e+05]\n",
      " [ 8.30e+01  3.62e+02]\n",
      " [ 2.20e+06  2.76e+06]\n",
      " [ 1.91e+06  2.38e+06]\n",
      " [ 3.62e+05  2.40e+05]\n",
      " [ 6.09e+02  6.33e+02]\n",
      " [ 1.16e+06  9.43e+05]\n",
      " [ 7.26e+05  7.36e+05]\n",
      " [ 6.92e+05  6.86e+01]\n",
      " [ 1.62e+05  1.17e+05]\n",
      " [ 3.97e+05  1.99e+05]\n",
      " [ 7.26e+02  8.01e+02]\n",
      " [ 4.67e+01  9.50e+01]\n",
      " [ 4.23e+05  4.19e+05]\n",
      " [ 4.87e+05  5.18e+05]\n",
      " [ 1.96e+06  1.74e+06]\n",
      " [ 5.28e+04  6.59e+04]\n",
      " [ 2.24e+02  1.22e+02]\n",
      " [ 1.54e+06  2.02e+06]\n",
      " [ 5.36e+04  1.03e+05]\n",
      " [ 1.06e+06  7.38e+05]\n",
      " [ 2.05e+06  2.03e+06]\n",
      " [ 3.18e+05  2.66e+05]\n",
      " [ 2.82e+05  4.24e+05]\n",
      " [ 1.01e+05  1.30e+05]\n",
      " [ 1.52e+06  1.41e+06]\n",
      " [ 2.41e+05  2.65e+05]\n",
      " [ 6.76e+02  1.08e+03]\n",
      " [ 1.62e+06  1.50e+06]\n",
      " [ 8.14e+02  7.68e+02]\n",
      " [ 1.85e+06  2.54e+06]\n",
      " [ 4.68e+02  2.63e+02]\n",
      " [ 1.42e+06  1.74e+06]\n",
      " [ 3.32e+06  3.23e+06]\n",
      " [ 1.71e+06  1.24e+06]\n",
      " [ 6.28e+02  1.11e+03]\n",
      " [ 4.62e+02  4.80e+02]\n",
      " [ 4.02e+05  2.34e+05]\n",
      " [ 1.41e+05  9.95e+04]\n",
      " [ 2.26e+05  2.38e+05]\n",
      " [ 2.21e+06  8.74e+05]\n",
      " [ 3.10e+06  3.23e+06]\n",
      " [ 8.35e+05  1.15e+06]\n",
      " [ 7.26e+05  7.34e+05]\n",
      " [ 1.28e+05  1.62e+05]\n",
      " [ 2.13e+06  1.80e+06]\n",
      " [ 1.20e+05  1.44e+05]\n",
      " [ 1.09e+05  1.38e+05]\n",
      " [ 1.44e-01  5.00e-02]\n",
      " [ 1.75e+06  1.64e+06]\n",
      " [ 5.39e+02  6.51e+02]\n",
      " [ 3.26e-01  7.60e-01]]\n"
     ]
    }
   ],
   "source": [
    "y_pred = regressor.predict(X_test)\n",
    "np.set_printoptions(precision=2)\n",
    "print(np.concatenate((y_pred.reshape(len(y_pred),1), y_test.reshape(len(y_test),1)),1))"
   ]
  },
  {
   "cell_type": "markdown",
   "metadata": {
    "colab_type": "text",
    "id": "Cd8VZM5POWXN"
   },
   "source": [
    "## Evaluating the Model Performance"
   ]
  },
  {
   "cell_type": "code",
   "execution_count": 10,
   "metadata": {
    "colab": {},
    "colab_type": "code",
    "id": "a7y1rXlfOZJo"
   },
   "outputs": [
    {
     "data": {
      "text/plain": [
       "array([[ 0.,  1.,  0., ...,  0.,  0., 22.],\n",
       "       [ 0.,  1.,  0., ...,  0.,  0.,  4.],\n",
       "       [ 0.,  0.,  1., ...,  1.,  0., 42.],\n",
       "       ...,\n",
       "       [ 0.,  0.,  0., ...,  0.,  0., 18.],\n",
       "       [ 0.,  0.,  0., ...,  1.,  0., 27.],\n",
       "       [ 0.,  0.,  0., ...,  0.,  0., 47.]])"
      ]
     },
     "execution_count": 10,
     "metadata": {},
     "output_type": "execute_result"
    }
   ],
   "source": [
    "from sklearn.metrics import r2_score\n",
    "r2_score(y_test, y_pred)\n",
    "X_test"
   ]
  },
  {
   "cell_type": "code",
   "execution_count": 11,
   "metadata": {},
   "outputs": [
    {
     "data": {
      "image/png": "[encoded data removed]",
      "text/plain": [
       "<Figure size 432x288 with 1 Axes>"
      ]
     },
     "metadata": {
      "needs_background": "light"
     },
     "output_type": "display_data"
    }
   ],
   "source": [
    "#plotting predicted Vs actual values of test dataset\n",
    "fig, ax = plt.subplots()  \n",
    "ax.plot(y_test)\n",
    "ax.plot(y_pred, color='red')\n",
    "    \n",
    "ax.xaxis.zoom(3) \n",
    "   \n",
    "ax.grid()"
   ]
  },
  {
   "cell_type": "code",
   "execution_count": 12,
   "metadata": {},
   "outputs": [
    {
     "name": "stdout",
     "output_type": "stream",
     "text": [
      "Accuracy: 86.47 %\n",
      "Standard Deviation: 4.99 %\n"
     ]
    }
   ],
   "source": [
    "from sklearn.model_selection import cross_val_score\n",
    "accuracies = cross_val_score(estimator = regressor, X = X_train, y = y_train, cv = 10)\n",
    "print(\"Accuracy: {:.2f} %\".format(accuracies.mean()*100))\n",
    "print(\"Standard Deviation: {:.2f} %\".format(accuracies.std()*100))"
   ]
  }
 ],
 "metadata": {
  "colab": {
   "collapsed_sections": [],
   "name": "random_forest_regression.ipynb",
   "provenance": [],
   "toc_visible": true
  },
  "kernelspec": {
   "display_name": "Python 3",
   "language": "python",
   "name": "python3"
  },
  "language_info": {
   "codemirror_mode": {
    "name": "ipython",
    "version": 3
   },
   "file_extension": ".py",
   "mimetype": "text/x-python",
   "name": "python",
   "nbconvert_exporter": "python",
   "pygments_lexer": "ipython3",
   "version": "3.7.3"
  }
 },
 "nbformat": 4,
 "nbformat_minor": 1
}
