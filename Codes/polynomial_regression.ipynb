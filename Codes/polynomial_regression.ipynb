{
 "cells": [
  {
   "cell_type": "markdown",
   "metadata": {
    "colab_type": "text",
    "id": "vN99YjPTDena"
   },
   "source": [
    "# Polynomial Regression"
   ]
  },
  {
   "cell_type": "markdown",
   "metadata": {
    "colab_type": "text",
    "id": "ZIx_naXnDyHd"
   },
   "source": [
    "## Importing the libraries"
   ]
  },
  {
   "cell_type": "code",
   "execution_count": 1,
   "metadata": {
    "colab": {},
    "colab_type": "code",
    "id": "FjnmdyPLD2tS"
   },
   "outputs": [],
   "source": [
    "import numpy as np\n",
    "import matplotlib.pyplot as plt\n",
    "import pandas as pd"
   ]
  },
  {
   "cell_type": "markdown",
   "metadata": {},
   "source": [
    "# Importing the dataset"
   ]
  },
  {
   "cell_type": "code",
   "execution_count": 2,
   "metadata": {},
   "outputs": [],
   "source": [
    "\n",
    "dataset = pd.read_csv('Sales forecast final.csv')\n"
   ]
  },
  {
   "cell_type": "markdown",
   "metadata": {},
   "source": [
    "# Data Preprocessing"
   ]
  },
  {
   "cell_type": "code",
   "execution_count": 3,
   "metadata": {},
   "outputs": [],
   "source": [
    "#convert data type to int\n",
    "dataset['week no']=dataset['week no'].astype('int')"
   ]
  },
  {
   "cell_type": "code",
   "execution_count": 4,
   "metadata": {
    "scrolled": true
   },
   "outputs": [
    {
     "data": {
      "text/html": [
       "<div>\n",
       "<style scoped>\n",
       "    .dataframe tbody tr th:only-of-type {\n",
       "        vertical-align: middle;\n",
       "    }\n",
       "\n",
       "    .dataframe tbody tr th {\n",
       "        vertical-align: top;\n",
       "    }\n",
       "\n",
       "    .dataframe thead th {\n",
       "        text-align: right;\n",
       "    }\n",
       "</style>\n",
       "<table border=\"1\" class=\"dataframe\">\n",
       "  <thead>\n",
       "    <tr style=\"text-align: right;\">\n",
       "      <th></th>\n",
       "      <th>week no</th>\n",
       "      <th>Category</th>\n",
       "      <th>Year</th>\n",
       "      <th>Sales</th>\n",
       "    </tr>\n",
       "  </thead>\n",
       "  <tbody>\n",
       "    <tr>\n",
       "      <th>0</th>\n",
       "      <td>49</td>\n",
       "      <td>2</td>\n",
       "      <td>2016</td>\n",
       "      <td>679064.37</td>\n",
       "    </tr>\n",
       "    <tr>\n",
       "      <th>1</th>\n",
       "      <td>49</td>\n",
       "      <td>1</td>\n",
       "      <td>2016</td>\n",
       "      <td>1268409.60</td>\n",
       "    </tr>\n",
       "    <tr>\n",
       "      <th>2</th>\n",
       "      <td>49</td>\n",
       "      <td>5</td>\n",
       "      <td>2016</td>\n",
       "      <td>94744.94</td>\n",
       "    </tr>\n",
       "    <tr>\n",
       "      <th>3</th>\n",
       "      <td>49</td>\n",
       "      <td>35</td>\n",
       "      <td>2016</td>\n",
       "      <td>1446.67</td>\n",
       "    </tr>\n",
       "    <tr>\n",
       "      <th>4</th>\n",
       "      <td>49</td>\n",
       "      <td>7</td>\n",
       "      <td>2016</td>\n",
       "      <td>1475152.07</td>\n",
       "    </tr>\n",
       "  </tbody>\n",
       "</table>\n",
       "</div>"
      ],
      "text/plain": [
       "   week no  Category  Year       Sales\n",
       "0       49         2  2016   679064.37\n",
       "1       49         1  2016  1268409.60\n",
       "2       49         5  2016    94744.94\n",
       "3       49        35  2016     1446.67\n",
       "4       49         7  2016  1475152.07"
      ]
     },
     "execution_count": 4,
     "metadata": {},
     "output_type": "execute_result"
    }
   ],
   "source": [
    "#selecting required columns\n",
    "data=dataset[['week no','Category','Year','Sales']]\n",
    "data.head()\n"
   ]
  },
  {
   "cell_type": "code",
   "execution_count": 5,
   "metadata": {
    "colab": {},
    "colab_type": "code",
    "id": "nQOdXhjXD_AE"
   },
   "outputs": [],
   "source": [
    "# Select the dependant and independant variables\n",
    "X = data.iloc[:, :-1].values\n",
    "y = data.iloc[:, -1].values"
   ]
  },
  {
   "cell_type": "code",
   "execution_count": 6,
   "metadata": {},
   "outputs": [
    {
     "name": "stderr",
     "output_type": "stream",
     "text": [
      "C:\\Users\\mp21865\\AppData\\Local\\Continuum\\anaconda3\\lib\\site-packages\\sklearn\\preprocessing\\_encoders.py:415: FutureWarning: The handling of integer data will change in version 0.22. Currently, the categories are determined based on the range [0, max(values)], while in the future they will be determined based on the unique values.\n",
      "If you want the future behaviour and silence this warning, you can specify \"categories='auto'\".\n",
      "In case you used a LabelEncoder before this OneHotEncoder to convert the categories to integers, then you can now use the OneHotEncoder directly.\n",
      "  warnings.warn(msg, FutureWarning)\n"
     ]
    }
   ],
   "source": [
    "#encode categorical variables ('category' and 'Year')\n",
    "from sklearn.compose import ColumnTransformer\n",
    "from sklearn.preprocessing import OneHotEncoder\n",
    "ct=ColumnTransformer(transformers=[('encoder',OneHotEncoder(),[1,2])],remainder='passthrough',sparse_threshold=0)\n",
    "X=np.array(ct.fit_transform(X))"
   ]
  },
  {
   "cell_type": "markdown",
   "metadata": {
    "colab_type": "text",
    "id": "Ud_1XTb28iXH"
   },
   "source": [
    "## Splitting the dataset into the Training set and Test set"
   ]
  },
  {
   "cell_type": "code",
   "execution_count": 7,
   "metadata": {
    "colab": {},
    "colab_type": "code",
    "id": "bUib_pbl8ipB"
   },
   "outputs": [],
   "source": [
    "from sklearn.model_selection import train_test_split\n",
    "X_train, X_test, y_train, y_test = train_test_split(X, y, test_size = 0.2, random_state = 0)"
   ]
  },
  {
   "cell_type": "code",
   "execution_count": 8,
   "metadata": {},
   "outputs": [],
   "source": [
    "# Feature scaling to bring all the variables within a fixed range\n",
    "from sklearn.preprocessing import StandardScaler\n",
    "sc = StandardScaler()\n",
    "X_train[:,-1:] = sc.fit_transform(X_train[:,-1:])\n",
    "X_test[:,-1:] = sc.transform(X_test[:,-1:])\n"
   ]
  },
  {
   "cell_type": "markdown",
   "metadata": {
    "colab_type": "text",
    "id": "Rb5nWuSHEfBV"
   },
   "source": [
    "## Training the Polynomial Regression model on the Training set"
   ]
  },
  {
   "cell_type": "code",
   "execution_count": 9,
   "metadata": {
    "colab": {},
    "colab_type": "code",
    "id": "HYplp4pTEm0O"
   },
   "outputs": [
    {
     "data": {
      "text/plain": [
       "LinearRegression(copy_X=True, fit_intercept=True, n_jobs=None, normalize=False)"
      ]
     },
     "execution_count": 9,
     "metadata": {},
     "output_type": "execute_result"
    }
   ],
   "source": [
    "from sklearn.preprocessing import PolynomialFeatures\n",
    "from sklearn.linear_model import LinearRegression\n",
    "poly_reg = PolynomialFeatures(degree = 4)\n",
    "X_poly = poly_reg.fit_transform(X_train)\n",
    "regressor = LinearRegression()\n",
    "regressor.fit(X_poly, y_train)"
   ]
  },
  {
   "cell_type": "markdown",
   "metadata": {
    "colab_type": "text",
    "id": "pzF3BRps9nlk"
   },
   "source": [
    "## Predicting the Test set results"
   ]
  },
  {
   "cell_type": "code",
   "execution_count": 10,
   "metadata": {
    "colab": {},
    "colab_type": "code",
    "id": "36aFLFBK9pMk"
   },
   "outputs": [
    {
     "name": "stdout",
     "output_type": "stream",
     "text": [
      "[[ 1.05e+06  1.05e+06]\n",
      " [ 8.21e+05  1.05e+06]\n",
      " [ 6.60e+05  6.39e+05]\n",
      " [ 2.15e+06  2.25e+06]\n",
      " [ 7.04e+04  4.00e+01]\n",
      " [ 2.89e+06  1.27e+06]\n",
      " [ 1.63e+05  2.29e+05]\n",
      " [ 2.08e+06  2.21e+06]\n",
      " [ 3.34e+13  9.95e+02]\n",
      " [ 2.79e+06  3.66e+06]\n",
      " [ 1.26e+05  3.63e+05]\n",
      " [-3.15e+04  2.40e+02]\n",
      " [-1.21e+06  4.00e-02]\n",
      " [ 1.73e+05  5.05e+04]\n",
      " [ 5.45e+05  1.12e+05]\n",
      " [ 2.18e+06  1.28e+06]\n",
      " [-7.47e+04  3.15e+02]\n",
      " [ 2.05e+06  1.78e+06]\n",
      " [ 6.54e+05  2.60e+05]\n",
      " [ 2.44e+05  2.96e+05]\n",
      " [ 5.50e+05  3.41e+05]\n",
      " [ 6.40e+01  2.38e+02]\n",
      " [ 2.41e+06  2.52e+06]\n",
      " [ 1.85e+06  2.25e+06]\n",
      " [ 3.94e+05  4.31e+05]\n",
      " [ 2.13e+06  1.42e+06]\n",
      " [ 2.50e+05  4.58e+02]\n",
      " [ 1.93e+06  1.17e+06]\n",
      " [ 1.69e+06  2.19e+06]\n",
      " [ 2.03e+06  1.01e+06]\n",
      " [ 1.84e+06  1.69e+06]\n",
      " [ 2.29e+05  2.10e+05]\n",
      " [ 7.70e+04  1.40e+05]\n",
      " [ 1.70e+05  9.00e+04]\n",
      " [ 5.21e+05  2.68e+05]\n",
      " [ 2.49e+06  3.82e+06]\n",
      " [-3.34e+04  1.32e+05]\n",
      " [ 8.62e+04  2.40e+05]\n",
      " [ 1.80e+06  2.35e+06]\n",
      " [ 2.89e+05  2.03e+05]\n",
      " [ 1.00e+14  9.18e+02]\n",
      " [ 4.75e+05  2.20e+05]\n",
      " [-8.93e+05  0.00e+00]\n",
      " [ 1.58e+05  2.59e+05]\n",
      " [ 5.46e+05  2.70e+05]\n",
      " [ 2.55e+05  2.29e+05]\n",
      " [ 2.48e+06  3.48e+06]\n",
      " [ 3.04e+05  5.09e+05]\n",
      " [-2.97e+05  3.07e+02]\n",
      " [ 3.53e+05  3.13e+05]\n",
      " [ 4.35e+05  1.97e+05]\n",
      " [ 1.64e+06  1.63e+06]\n",
      " [ 2.66e+06  2.17e+06]\n",
      " [ 2.38e+05  1.77e+05]\n",
      " [ 2.87e+05  2.57e+05]\n",
      " [-1.51e+05  1.05e+02]\n",
      " [ 1.28e+05  2.35e+05]\n",
      " [ 1.48e+05  1.86e+05]\n",
      " [ 6.70e+05  5.98e+05]\n",
      " [ 1.97e+06  1.19e+06]\n",
      " [-2.52e+05  9.00e+02]\n",
      " [ 9.28e+02  1.74e+02]\n",
      " [ 2.12e+06  1.70e+06]\n",
      " [ 1.87e+06  1.41e+06]\n",
      " [ 5.18e+05  2.38e+05]\n",
      " [ 1.02e+06  9.23e+05]\n",
      " [-3.23e+05  6.36e+02]\n",
      " [ 2.61e+05  6.00e+04]\n",
      " [ 5.25e+04  1.65e+05]\n",
      " [ 2.47e+06  1.34e+06]\n",
      " [ 2.24e+02  9.84e+01]\n",
      " [ 3.84e+05  2.89e+05]\n",
      " [ 1.87e+06  1.35e+06]\n",
      " [ 7.67e+05  6.61e+05]\n",
      " [ 1.57e+05  5.00e+01]\n",
      " [ 5.18e+05  3.98e+05]\n",
      " [ 2.25e+06  1.61e+06]\n",
      " [ 3.00e+06  4.51e+06]\n",
      " [ 6.63e+05  1.40e+05]\n",
      " [ 2.82e+05  5.00e+02]\n",
      " [ 3.37e+05  2.58e+05]\n",
      " [ 1.50e+06  1.22e+06]\n",
      " [-1.56e+05  1.15e+05]\n",
      " [-2.71e+05  1.46e+02]\n",
      " [ 3.54e+05  1.92e+05]\n",
      " [ 6.15e+05  1.34e+05]\n",
      " [ 1.46e+05  2.44e+05]\n",
      " [ 6.56e+04  9.47e+04]\n",
      " [ 4.54e+05  2.78e+05]\n",
      " [-6.21e+04 -3.75e+00]\n",
      " [-1.25e+05  7.57e+04]\n",
      " [ 2.49e+05  1.41e+05]\n",
      " [ 2.08e+06  1.39e+06]\n",
      " [ 1.79e+05  6.26e+04]\n",
      " [ 6.96e+05  3.60e+05]\n",
      " [ 2.35e+06  1.63e+06]\n",
      " [ 1.80e+06  1.43e+06]\n",
      " [ 2.22e+05  1.71e+03]\n",
      " [-1.55e+04  1.57e+05]\n",
      " [ 6.31e+05  4.00e+05]\n",
      " [ 7.46e+05  6.23e+05]\n",
      " [ 2.11e+06  2.27e+06]\n",
      " [ 6.00e+04  2.40e+05]\n",
      " [ 8.17e+05  6.44e+05]\n",
      " [ 3.13e+05  2.19e+05]\n",
      " [ 2.46e+06  3.16e+06]\n",
      " [ 4.24e+05  7.64e+04]\n",
      " [ 2.43e+06  3.77e+06]\n",
      " [ 8.18e+04  4.84e+04]\n",
      " [ 1.06e+06  6.94e+05]\n",
      " [ 1.42e+06  7.79e+05]\n",
      " [ 1.46e+06  1.23e+06]\n",
      " [ 5.27e+05  2.76e+05]\n",
      " [ 1.58e+06  1.09e+06]\n",
      " [ 1.12e+06  6.72e+05]\n",
      " [ 1.74e+06  1.81e+06]\n",
      " [ 2.15e+06  1.05e+06]\n",
      " [-2.10e+04  1.34e+05]\n",
      " [ 2.77e+06  2.48e+06]\n",
      " [-3.98e+05  1.68e+03]\n",
      " [ 1.81e+06  1.16e+06]\n",
      " [ 6.30e+05  2.49e+05]\n",
      " [ 1.04e+06  6.28e+05]\n",
      " [ 1.74e+06  1.49e+06]\n",
      " [ 7.64e+05  5.37e+05]\n",
      " [-1.55e+05  1.16e+05]\n",
      " [ 7.52e+05  5.84e+05]\n",
      " [-2.04e+05  6.30e+02]\n",
      " [ 6.50e+05  9.78e+04]\n",
      " [ 3.58e+05  1.58e+05]\n",
      " [ 2.16e+04  2.22e+05]\n",
      " [ 1.44e+03  6.63e+01]\n",
      " [-5.60e+04  9.60e+02]\n",
      " [ 1.95e+06  2.22e+06]\n",
      " [-1.00e+05  6.44e+04]\n",
      " [-1.43e+05  7.32e+04]\n",
      " [ 7.28e+05  5.50e+05]\n",
      " [ 2.00e+06  1.32e+06]\n",
      " [ 1.68e+06  7.92e+05]\n",
      " [ 2.51e+06  2.77e+06]\n",
      " [ 6.88e+05  1.05e+02]\n",
      " [-1.12e+06  2.25e+02]\n",
      " [ 1.70e+06  1.48e+06]\n",
      " [ 4.50e+04  2.28e+05]\n",
      " [-1.60e+05  1.65e+02]\n",
      " [ 2.86e+05  6.00e-02]\n",
      " [ 4.72e+04  7.85e+04]\n",
      " [ 9.73e+04  9.91e+04]\n",
      " [-6.84e+04  1.14e+05]\n",
      " [ 6.08e+05  6.99e+05]\n",
      " [ 3.50e+05  3.36e+05]\n",
      " [ 5.45e+05  2.84e+05]\n",
      " [-2.88e+03  3.62e+02]\n",
      " [ 2.24e+06  2.76e+06]\n",
      " [ 2.15e+06  2.38e+06]\n",
      " [ 5.13e+05  2.40e+05]\n",
      " [ 8.70e+04  6.33e+02]\n",
      " [ 1.28e+06  9.43e+05]\n",
      " [ 6.52e+05  7.36e+05]\n",
      " [ 1.41e+06  6.86e+01]\n",
      " [ 1.48e+05  1.17e+05]\n",
      " [ 4.47e+05  1.99e+05]\n",
      " [-2.18e+05  8.01e+02]\n",
      " [-4.07e+04  9.50e+01]\n",
      " [ 3.66e+05  4.19e+05]\n",
      " [ 7.03e+05  5.18e+05]\n",
      " [ 2.39e+06  1.74e+06]\n",
      " [ 1.79e+05  6.59e+04]\n",
      " [ 3.69e+04  1.22e+02]\n",
      " [ 2.27e+06  2.02e+06]\n",
      " [-3.25e+04  1.03e+05]\n",
      " [ 1.65e+06  7.38e+05]\n",
      " [ 2.25e+06  2.03e+06]\n",
      " [ 5.76e+05  2.66e+05]\n",
      " [ 4.78e+05  4.24e+05]\n",
      " [ 5.94e+05  1.30e+05]\n",
      " [ 2.06e+06  1.41e+06]\n",
      " [ 3.31e+05  2.65e+05]\n",
      " [ 1.50e+05  1.08e+03]\n",
      " [ 1.46e+06  1.50e+06]\n",
      " [-1.94e+05  7.68e+02]\n",
      " [ 1.93e+06  2.54e+06]\n",
      " [ 3.05e+05  2.63e+02]\n",
      " [ 1.47e+06  1.74e+06]\n",
      " [ 2.60e+06  3.23e+06]\n",
      " [ 2.20e+06  1.24e+06]\n",
      " [ 2.32e+05  1.11e+03]\n",
      " [-1.40e+05  4.80e+02]\n",
      " [ 3.79e+05  2.34e+05]\n",
      " [ 3.87e+05  9.95e+04]\n",
      " [ 4.49e+05  2.38e+05]\n",
      " [ 2.02e+06  8.74e+05]\n",
      " [ 2.89e+06  3.23e+06]\n",
      " [ 1.13e+06  1.15e+06]\n",
      " [ 1.09e+06  7.34e+05]\n",
      " [ 3.86e+05  1.62e+05]\n",
      " [ 1.82e+06  1.80e+06]\n",
      " [-1.59e+05  1.44e+05]\n",
      " [ 4.60e+05  1.38e+05]\n",
      " [ 1.52e+05  5.00e-02]\n",
      " [ 1.86e+06  1.64e+06]\n",
      " [-2.00e+05  6.51e+02]\n",
      " [ 2.18e+05  7.60e-01]]\n"
     ]
    }
   ],
   "source": [
    "y_pred = regressor.predict(poly_reg.transform(X_test))\n",
    "np.set_printoptions(precision=2)\n",
    "print(np.concatenate((y_pred.reshape(len(y_pred),1), y_test.reshape(len(y_test),1)),1))"
   ]
  },
  {
   "cell_type": "markdown",
   "metadata": {
    "colab_type": "text",
    "id": "Fz1uTlWV919-"
   },
   "source": [
    "## Evaluating the Model Performance"
   ]
  },
  {
   "cell_type": "code",
   "execution_count": 12,
   "metadata": {},
   "outputs": [
    {
     "name": "stdout",
     "output_type": "stream",
     "text": [
      "Accuracy: 71.88 %\n",
      "Standard Deviation: 5.44 %\n"
     ]
    }
   ],
   "source": [
    "from sklearn.model_selection import cross_val_score\n",
    "accuracies = cross_val_score(estimator = regressor, X = X_train, y = y_train, cv = 10)\n",
    "print(\"Accuracy: {:.2f} %\".format(accuracies.mean()*100))\n",
    "print(\"Standard Deviation: {:.2f} %\".format(accuracies.std()*100))"
   ]
  }
 ],
 "metadata": {
  "colab": {
   "collapsed_sections": [],
   "name": "polynomial_regression.ipynb",
   "provenance": [],
   "toc_visible": true
  },
  "kernelspec": {
   "display_name": "Python 3",
   "language": "python",
   "name": "python3"
  },
  "language_info": {
   "codemirror_mode": {
    "name": "ipython",
    "version": 3
   },
   "file_extension": ".py",
   "mimetype": "text/x-python",
   "name": "python",
   "nbconvert_exporter": "python",
   "pygments_lexer": "ipython3",
   "version": "3.7.3"
  }
 },
 "nbformat": 4,
 "nbformat_minor": 1
}
