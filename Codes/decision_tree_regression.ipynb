{
 "cells": [
  {
   "cell_type": "markdown",
   "metadata": {
    "colab_type": "text",
    "id": "r3cas2_1T98w"
   },
   "source": [
    "# Decision Tree Regression"
   ]
  },
  {
   "cell_type": "markdown",
   "metadata": {
    "colab_type": "text",
    "id": "IODliia6U1xO"
   },
   "source": [
    "## Importing the libraries"
   ]
  },
  {
   "cell_type": "code",
   "execution_count": 1,
   "metadata": {
    "colab": {},
    "colab_type": "code",
    "id": "y98nA5UdU6Hf"
   },
   "outputs": [],
   "source": [
    "import numpy as np\n",
    "import matplotlib.pyplot as plt\n",
    "import pandas as pd"
   ]
  },
  {
   "cell_type": "markdown",
   "metadata": {},
   "source": [
    "# Importing dataset"
   ]
  },
  {
   "cell_type": "code",
   "execution_count": 2,
   "metadata": {},
   "outputs": [],
   "source": [
    "dataset = pd.read_csv('Sales forecast final.csv')"
   ]
  },
  {
   "cell_type": "markdown",
   "metadata": {},
   "source": [
    "# Data Preprocessing"
   ]
  },
  {
   "cell_type": "code",
   "execution_count": 3,
   "metadata": {},
   "outputs": [],
   "source": [
    "# convert datatype to int\n",
    "dataset['week no']=dataset['week no'].astype('int')\n"
   ]
  },
  {
   "cell_type": "code",
   "execution_count": 4,
   "metadata": {},
   "outputs": [],
   "source": [
    "# Select required columns\n",
    "data=dataset[['week no','Category','Year','Sales']]\n"
   ]
  },
  {
   "cell_type": "code",
   "execution_count": 5,
   "metadata": {
    "colab": {},
    "colab_type": "code",
    "id": "pLVaXoYVU_Uy"
   },
   "outputs": [],
   "source": [
    "# Select the dependant and independant variables\n",
    "X = data.iloc[:, :-1].values\n",
    "y = data.iloc[:, -1].values"
   ]
  },
  {
   "cell_type": "code",
   "execution_count": 6,
   "metadata": {},
   "outputs": [
    {
     "name": "stderr",
     "output_type": "stream",
     "text": [
      "C:\\Users\\mp21865\\AppData\\Local\\Continuum\\anaconda3\\lib\\site-packages\\sklearn\\preprocessing\\_encoders.py:415: FutureWarning: The handling of integer data will change in version 0.22. Currently, the categories are determined based on the range [0, max(values)], while in the future they will be determined based on the unique values.\n",
      "If you want the future behaviour and silence this warning, you can specify \"categories='auto'\".\n",
      "In case you used a LabelEncoder before this OneHotEncoder to convert the categories to integers, then you can now use the OneHotEncoder directly.\n",
      "  warnings.warn(msg, FutureWarning)\n"
     ]
    }
   ],
   "source": [
    "#encode categorical variables ('category' and 'Year')\n",
    "from sklearn.compose import ColumnTransformer\n",
    "from sklearn.preprocessing import OneHotEncoder\n",
    "ct=ColumnTransformer(transformers=[('encoder',OneHotEncoder(),[1,2])],remainder='passthrough',sparse_threshold=0)\n",
    "X=np.array(ct.fit_transform(X))\n"
   ]
  },
  {
   "cell_type": "markdown",
   "metadata": {
    "colab_type": "text",
    "id": "tPJXMyyUJbWn"
   },
   "source": [
    "## Splitting the dataset into the Training set and Test set"
   ]
  },
  {
   "cell_type": "code",
   "execution_count": 7,
   "metadata": {
    "colab": {},
    "colab_type": "code",
    "id": "rFOzpjaiJd5B"
   },
   "outputs": [],
   "source": [
    "from sklearn.model_selection import train_test_split\n",
    "X_train, X_test, y_train, y_test = train_test_split(X, y, test_size = 0.2, random_state = 0)"
   ]
  },
  {
   "cell_type": "markdown",
   "metadata": {
    "colab_type": "text",
    "id": "g16qFkFQVC35"
   },
   "source": [
    "## Training the Decision Tree Regression model on the Training set"
   ]
  },
  {
   "cell_type": "code",
   "execution_count": 8,
   "metadata": {
    "colab": {},
    "colab_type": "code",
    "id": "SLDKyv1SVUqS"
   },
   "outputs": [
    {
     "data": {
      "text/plain": [
       "DecisionTreeRegressor(criterion='mse', max_depth=None, max_features=None,\n",
       "                      max_leaf_nodes=None, min_impurity_decrease=0.0,\n",
       "                      min_impurity_split=None, min_samples_leaf=1,\n",
       "                      min_samples_split=2, min_weight_fraction_leaf=0.0,\n",
       "                      presort=False, random_state=0, splitter='best')"
      ]
     },
     "execution_count": 8,
     "metadata": {},
     "output_type": "execute_result"
    }
   ],
   "source": [
    "from sklearn.tree import DecisionTreeRegressor\n",
    "regressor = DecisionTreeRegressor(random_state = 0)\n",
    "regressor.fit(X_train, y_train)"
   ]
  },
  {
   "cell_type": "markdown",
   "metadata": {
    "colab_type": "text",
    "id": "Nao9cdO6IgNb"
   },
   "source": [
    "## Predicting the Test set results"
   ]
  },
  {
   "cell_type": "code",
   "execution_count": 9,
   "metadata": {
    "colab": {},
    "colab_type": "code",
    "id": "EebHA3EOIkQK"
   },
   "outputs": [
    {
     "name": "stdout",
     "output_type": "stream",
     "text": [
      "[[ 9.91e+05  1.05e+06]\n",
      " [ 6.97e+05  1.05e+06]\n",
      " [ 7.64e+05  6.39e+05]\n",
      " [ 1.81e+06  2.25e+06]\n",
      " [ 6.01e+01  4.00e+01]\n",
      " [ 2.44e+06  1.27e+06]\n",
      " [ 3.31e+05  2.29e+05]\n",
      " [ 1.81e+06  2.21e+06]\n",
      " [ 4.21e+02  9.95e+02]\n",
      " [ 3.16e+06  3.66e+06]\n",
      " [ 3.03e+05  3.63e+05]\n",
      " [ 4.07e+02  2.40e+02]\n",
      " [ 3.00e-02  4.00e-02]\n",
      " [ 4.19e+04  5.05e+04]\n",
      " [ 9.74e+04  1.12e+05]\n",
      " [ 1.69e+06  1.28e+06]\n",
      " [ 1.50e+01  3.15e+02]\n",
      " [ 2.09e+06  1.78e+06]\n",
      " [ 3.04e+05  2.60e+05]\n",
      " [ 1.81e+05  2.96e+05]\n",
      " [ 4.50e+05  3.41e+05]\n",
      " [ 2.79e+02  2.38e+02]\n",
      " [ 1.97e+06  2.52e+06]\n",
      " [ 1.77e+06  2.25e+06]\n",
      " [ 5.96e+05  4.31e+05]\n",
      " [ 1.53e+06  1.42e+06]\n",
      " [ 1.97e+02  4.58e+02]\n",
      " [ 1.46e+06  1.17e+06]\n",
      " [ 1.39e+06  2.19e+06]\n",
      " [ 1.97e+06  1.01e+06]\n",
      " [ 2.61e+06  1.69e+06]\n",
      " [ 2.03e+05  2.10e+05]\n",
      " [ 8.31e+04  1.40e+05]\n",
      " [ 1.15e+05  9.00e+04]\n",
      " [ 2.84e+05  2.68e+05]\n",
      " [ 4.07e+06  3.82e+06]\n",
      " [ 1.59e+05  1.32e+05]\n",
      " [ 2.17e+05  2.40e+05]\n",
      " [ 1.31e+06  2.35e+06]\n",
      " [ 1.68e+05  2.03e+05]\n",
      " [ 4.63e+02  9.18e+02]\n",
      " [ 3.37e+05  2.20e+05]\n",
      " [ 3.00e-02  0.00e+00]\n",
      " [ 2.78e+05  2.59e+05]\n",
      " [ 2.53e+05  2.70e+05]\n",
      " [ 1.91e+05  2.29e+05]\n",
      " [ 3.06e+06  3.48e+06]\n",
      " [ 4.41e+05  5.09e+05]\n",
      " [ 1.12e+02  3.07e+02]\n",
      " [ 2.97e+05  3.13e+05]\n",
      " [ 1.78e+05  1.97e+05]\n",
      " [ 1.34e+06  1.63e+06]\n",
      " [ 1.07e+06  2.17e+06]\n",
      " [ 1.91e+05  1.77e+05]\n",
      " [ 2.52e+05  2.57e+05]\n",
      " [ 1.20e+02  1.05e+02]\n",
      " [ 2.62e+05  2.35e+05]\n",
      " [ 2.23e+05  1.86e+05]\n",
      " [ 4.39e+05  5.98e+05]\n",
      " [ 1.19e+06  1.19e+06]\n",
      " [ 4.05e+02  9.00e+02]\n",
      " [ 2.19e+02  1.74e+02]\n",
      " [ 1.48e+06  1.70e+06]\n",
      " [ 1.84e+06  1.41e+06]\n",
      " [ 3.01e+05  2.38e+05]\n",
      " [ 9.91e+05  9.23e+05]\n",
      " [ 1.12e+02  6.36e+02]\n",
      " [ 4.67e+04  6.00e+04]\n",
      " [ 2.05e+05  1.65e+05]\n",
      " [ 1.82e+06  1.34e+06]\n",
      " [ 2.70e+02  9.84e+01]\n",
      " [ 1.65e+05  2.89e+05]\n",
      " [ 1.33e+06  1.35e+06]\n",
      " [ 4.71e+05  6.61e+05]\n",
      " [ 4.10e+02  5.00e+01]\n",
      " [ 3.70e+05  3.98e+05]\n",
      " [ 1.76e+06  1.61e+06]\n",
      " [ 3.40e+06  4.51e+06]\n",
      " [ 1.20e+05  1.40e+05]\n",
      " [ 4.50e+02  5.00e+02]\n",
      " [ 1.74e+05  2.58e+05]\n",
      " [ 1.22e+06  1.22e+06]\n",
      " [ 1.14e+05  1.15e+05]\n",
      " [ 3.96e+02  1.46e+02]\n",
      " [ 2.81e+05  1.92e+05]\n",
      " [ 1.15e+05  1.34e+05]\n",
      " [ 1.92e+05  2.44e+05]\n",
      " [ 1.26e+05  9.47e+04]\n",
      " [ 4.23e+05  2.78e+05]\n",
      " [ 4.95e+02 -3.75e+00]\n",
      " [ 7.13e+04  7.57e+04]\n",
      " [ 1.37e+05  1.41e+05]\n",
      " [ 1.05e+06  1.39e+06]\n",
      " [ 1.96e+05  6.26e+04]\n",
      " [ 4.83e+05  3.60e+05]\n",
      " [ 2.40e+06  1.63e+06]\n",
      " [ 1.85e+06  1.43e+06]\n",
      " [ 6.58e+02  1.71e+03]\n",
      " [ 1.83e+05  1.57e+05]\n",
      " [ 4.54e+05  4.00e+05]\n",
      " [ 4.71e+05  6.23e+05]\n",
      " [ 1.81e+06  2.27e+06]\n",
      " [ 2.45e+05  2.40e+05]\n",
      " [ 6.38e+05  6.44e+05]\n",
      " [ 3.27e+05  2.19e+05]\n",
      " [ 4.07e+06  3.16e+06]\n",
      " [ 6.51e+04  7.64e+04]\n",
      " [ 2.40e+06  3.77e+06]\n",
      " [ 7.47e+04  4.84e+04]\n",
      " [ 5.76e+05  6.94e+05]\n",
      " [ 9.78e+05  7.79e+05]\n",
      " [ 1.39e+06  1.23e+06]\n",
      " [ 2.23e+05  2.76e+05]\n",
      " [ 1.39e+06  1.09e+06]\n",
      " [ 7.54e+05  6.72e+05]\n",
      " [ 1.48e+06  1.81e+06]\n",
      " [ 1.78e+06  1.05e+06]\n",
      " [ 1.61e+05  1.34e+05]\n",
      " [ 2.49e+06  2.48e+06]\n",
      " [ 1.98e+04  1.68e+03]\n",
      " [ 1.04e+06  1.16e+06]\n",
      " [ 4.33e+05  2.49e+05]\n",
      " [ 5.60e+05  6.28e+05]\n",
      " [ 1.64e+06  1.49e+06]\n",
      " [ 4.71e+05  5.37e+05]\n",
      " [ 1.14e+05  1.16e+05]\n",
      " [ 4.94e+05  5.84e+05]\n",
      " [ 2.10e+02  6.30e+02]\n",
      " [ 1.20e+05  9.78e+04]\n",
      " [ 1.10e+05  1.58e+05]\n",
      " [ 1.68e+05  2.22e+05]\n",
      " [ 4.90e+01  6.63e+01]\n",
      " [ 9.00e+02  9.60e+02]\n",
      " [ 1.74e+06  2.22e+06]\n",
      " [ 7.81e+04  6.44e+04]\n",
      " [ 7.13e+04  7.32e+04]\n",
      " [ 5.83e+05  5.50e+05]\n",
      " [ 3.25e+06  1.32e+06]\n",
      " [ 8.65e+05  7.92e+05]\n",
      " [ 3.00e+06  2.77e+06]\n",
      " [ 1.66e+03  1.05e+02]\n",
      " [ 1.98e+04  2.25e+02]\n",
      " [ 2.30e+06  1.48e+06]\n",
      " [ 1.68e+05  2.28e+05]\n",
      " [ 2.40e+02  1.65e+02]\n",
      " [ 4.00e-02  6.00e-02]\n",
      " [ 6.41e+04  7.85e+04]\n",
      " [ 1.43e+05  9.91e+04]\n",
      " [ 7.13e+04  1.14e+05]\n",
      " [ 6.37e+05  6.99e+05]\n",
      " [ 1.65e+05  3.36e+05]\n",
      " [ 2.51e+05  2.84e+05]\n",
      " [ 4.90e+01  3.62e+02]\n",
      " [ 2.19e+06  2.76e+06]\n",
      " [ 1.69e+06  2.38e+06]\n",
      " [ 3.93e+05  2.40e+05]\n",
      " [ 3.24e+02  6.33e+02]\n",
      " [ 1.15e+06  9.43e+05]\n",
      " [ 7.17e+05  7.36e+05]\n",
      " [ 1.10e+03  6.86e+01]\n",
      " [ 1.57e+05  1.17e+05]\n",
      " [ 3.52e+05  1.99e+05]\n",
      " [ 7.65e+02  8.01e+02]\n",
      " [ 5.01e+01  9.50e+01]\n",
      " [ 3.48e+05  4.19e+05]\n",
      " [ 4.94e+05  5.18e+05]\n",
      " [ 1.69e+06  1.74e+06]\n",
      " [ 5.29e+04  6.59e+04]\n",
      " [ 2.94e+02  1.22e+02]\n",
      " [ 1.05e+06  2.02e+06]\n",
      " [ 4.91e+04  1.03e+05]\n",
      " [ 1.31e+06  7.38e+05]\n",
      " [ 2.25e+06  2.03e+06]\n",
      " [ 2.56e+05  2.66e+05]\n",
      " [ 2.56e+05  4.24e+05]\n",
      " [ 1.20e+05  1.30e+05]\n",
      " [ 1.52e+06  1.41e+06]\n",
      " [ 2.64e+05  2.65e+05]\n",
      " [ 9.34e+02  1.08e+03]\n",
      " [ 1.67e+06  1.50e+06]\n",
      " [ 8.66e+02  7.68e+02]\n",
      " [ 1.71e+06  2.54e+06]\n",
      " [ 3.78e+02  2.63e+02]\n",
      " [ 1.39e+06  1.74e+06]\n",
      " [ 3.06e+06  3.23e+06]\n",
      " [ 1.75e+06  1.24e+06]\n",
      " [ 4.70e+02  1.11e+03]\n",
      " [ 5.11e+02  4.80e+02]\n",
      " [ 2.56e+05  2.34e+05]\n",
      " [ 1.31e+05  9.95e+04]\n",
      " [ 2.08e+05  2.38e+05]\n",
      " [ 3.16e+06  8.74e+05]\n",
      " [ 3.16e+06  3.23e+06]\n",
      " [ 7.05e+05  1.15e+06]\n",
      " [ 7.52e+05  7.34e+05]\n",
      " [ 1.31e+05  1.62e+05]\n",
      " [ 2.11e+06  1.80e+06]\n",
      " [ 1.14e+05  1.44e+05]\n",
      " [ 1.15e+05  1.38e+05]\n",
      " [ 2.00e-02  5.00e-02]\n",
      " [ 1.65e+06  1.64e+06]\n",
      " [ 5.61e+02  6.51e+02]\n",
      " [ 3.30e-01  7.60e-01]]\n"
     ]
    }
   ],
   "source": [
    "y_pred = regressor.predict(X_test)\n",
    "np.set_printoptions(precision=2)\n",
    "print(np.concatenate((y_pred.reshape(len(y_pred),1), y_test.reshape(len(y_test),1)),1))"
   ]
  },
  {
   "cell_type": "markdown",
   "metadata": {
    "colab_type": "text",
    "id": "V4nELFnnIod1"
   },
   "source": [
    "## Evaluating the Model Performance"
   ]
  },
  {
   "cell_type": "code",
   "execution_count": 10,
   "metadata": {
    "colab": {},
    "colab_type": "code",
    "id": "_G2QS1UoIsTZ"
   },
   "outputs": [
    {
     "data": {
      "text/plain": [
       "0.8366655727538388"
      ]
     },
     "execution_count": 10,
     "metadata": {},
     "output_type": "execute_result"
    }
   ],
   "source": [
    "from sklearn.metrics import r2_score\n",
    "r2_score(y_test, y_pred)"
   ]
  },
  {
   "cell_type": "code",
   "execution_count": 11,
   "metadata": {},
   "outputs": [
    {
     "name": "stdout",
     "output_type": "stream",
     "text": [
      "Accuracy: 81.03 %\n",
      "Standard Deviation: 6.08 %\n"
     ]
    }
   ],
   "source": [
    "from sklearn.model_selection import cross_val_score\n",
    "accuracies = cross_val_score(estimator = regressor, X = X_train, y = y_train, cv = 10)\n",
    "print(\"Accuracy: {:.2f} %\".format(accuracies.mean()*100))\n",
    "print(\"Standard Deviation: {:.2f} %\".format(accuracies.std()*100))"
   ]
  }
 ],
 "metadata": {
  "colab": {
   "collapsed_sections": [],
   "name": "decision_tree_regression.ipynb",
   "provenance": [],
   "toc_visible": true
  },
  "kernelspec": {
   "display_name": "Python 3",
   "language": "python",
   "name": "python3"
  },
  "language_info": {
   "codemirror_mode": {
    "name": "ipython",
    "version": 3
   },
   "file_extension": ".py",
   "mimetype": "text/x-python",
   "name": "python",
   "nbconvert_exporter": "python",
   "pygments_lexer": "ipython3",
   "version": "3.7.3"
  }
 },
 "nbformat": 4,
 "nbformat_minor": 1
}
