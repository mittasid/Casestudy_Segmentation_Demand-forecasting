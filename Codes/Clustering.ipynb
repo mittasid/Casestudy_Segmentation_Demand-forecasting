{
 "cells": [
  {
   "cell_type": "code",
   "execution_count": 1,
   "metadata": {},
   "outputs": [],
   "source": [
    "#Import libraries\n",
    "import pandas as pd\n",
    "import numpy as np\n",
    "import datetime\n",
    "from matplotlib import pyplot as plt\n"
   ]
  },
  {
   "cell_type": "code",
   "execution_count": 2,
   "metadata": {},
   "outputs": [],
   "source": [
    "#import dataset\n",
    "dataset=pd.read_csv('Clustering data.csv')"
   ]
  },
  {
   "cell_type": "code",
   "execution_count": 3,
   "metadata": {},
   "outputs": [],
   "source": [
    "#extract year,day and month from date\n",
    "dataset['Open Date'] = pd.to_datetime(dataset['Open Date']) \n",
    "dataset['dayOfWeek'] = dataset['Open Date'].dt.day_name() \n",
    "dataset['month'] = dataset['Open Date'].dt.month\n",
    "dataset['year'] = dataset['Open Date'].dt.year"
   ]
  },
  {
   "cell_type": "code",
   "execution_count": 4,
   "metadata": {},
   "outputs": [],
   "source": [
    "#impute values based on the legend \n",
    "dataset['Pharmacy_IND'] = dataset['Pharmacy_IND'].replace(['N','Y'],[0,1])\n",
    "dataset['Pickup_IND'] = dataset['Pickup_IND'].replace(['N','Y'],[0,1])\n",
    "dataset['SFS_IND'] = dataset['SFS_IND'].replace(['N','Y'],[0,1])\n",
    "dataset['COMP_IND'] = dataset['COMP_IND'].replace(['-'],[np.nan])\n",
    "dataset['COMP_IND'] = dataset['COMP_IND'].replace(['N','Y'],[0,1])\n",
    "dataset['College_STORE_IND'] = dataset['College_STORE_IND'].replace(['N','Y'],[0,1])\n",
    "dataset['dayOfWeek'] = dataset['dayOfWeek'].replace(['Monday','Tuesday','Wednesday','Thursday','Friday','Saturday','Sunday'],[0,0,0,0,0,1,1])\n"
   ]
  },
  {
   "cell_type": "code",
   "execution_count": 5,
   "metadata": {},
   "outputs": [],
   "source": [
    "#selecting required columns\n",
    "data=dataset[['StoreNum','State Provinc','Market','Region','Locality Code','Climate Code','Pharmacy_IND','Pickup_IND','SFS_IND','COMP_IND','College_STORE_IND','INCOME_CD','ETHNICITY_CD','dayOfWeek','month','year']]"
   ]
  },
  {
   "cell_type": "code",
   "execution_count": 6,
   "metadata": {},
   "outputs": [
    {
     "data": {
      "text/plain": [
       "StoreNum              0.00\n",
       "State Provinc         0.00\n",
       "Market                0.00\n",
       "Region               47.54\n",
       "Locality Code        61.62\n",
       "Climate Code         64.08\n",
       "Pharmacy_IND         17.25\n",
       "Pickup_IND            0.35\n",
       "SFS_IND               8.80\n",
       "COMP_IND             60.21\n",
       "College_STORE_IND    17.25\n",
       "INCOME_CD            61.27\n",
       "ETHNICITY_CD         61.62\n",
       "dayOfWeek             0.00\n",
       "month                 0.00\n",
       "year                  0.00\n",
       "dtype: float64"
      ]
     },
     "execution_count": 6,
     "metadata": {},
     "output_type": "execute_result"
    }
   ],
   "source": [
    "data.isna().mean().round(4) * 100"
   ]
  },
  {
   "cell_type": "code",
   "execution_count": 7,
   "metadata": {},
   "outputs": [],
   "source": [
    "#Select requred columns for clustering\n",
    "master_data=data.drop(['StoreNum','State Provinc','Market','Region','month','year','Locality Code','Pickup_IND','SFS_IND','COMP_IND','College_STORE_IND','dayOfWeek'],axis=1)"
   ]
  },
  {
   "cell_type": "code",
   "execution_count": 8,
   "metadata": {},
   "outputs": [
    {
     "data": {
      "text/html": [
       "<div>\n",
       "<style scoped>\n",
       "    .dataframe tbody tr th:only-of-type {\n",
       "        vertical-align: middle;\n",
       "    }\n",
       "\n",
       "    .dataframe tbody tr th {\n",
       "        vertical-align: top;\n",
       "    }\n",
       "\n",
       "    .dataframe thead th {\n",
       "        text-align: right;\n",
       "    }\n",
       "</style>\n",
       "<table border=\"1\" class=\"dataframe\">\n",
       "  <thead>\n",
       "    <tr style=\"text-align: right;\">\n",
       "      <th></th>\n",
       "      <th>Climate Code</th>\n",
       "      <th>Pharmacy_IND</th>\n",
       "      <th>INCOME_CD</th>\n",
       "      <th>ETHNICITY_CD</th>\n",
       "    </tr>\n",
       "  </thead>\n",
       "  <tbody>\n",
       "    <tr>\n",
       "      <th>0</th>\n",
       "      <td>3.0</td>\n",
       "      <td>0.0</td>\n",
       "      <td>2.0</td>\n",
       "      <td>3.0</td>\n",
       "    </tr>\n",
       "    <tr>\n",
       "      <th>1</th>\n",
       "      <td>2.0</td>\n",
       "      <td>0.0</td>\n",
       "      <td>1.0</td>\n",
       "      <td>1.0</td>\n",
       "    </tr>\n",
       "    <tr>\n",
       "      <th>2</th>\n",
       "      <td>2.0</td>\n",
       "      <td>0.0</td>\n",
       "      <td>2.0</td>\n",
       "      <td>2.0</td>\n",
       "    </tr>\n",
       "    <tr>\n",
       "      <th>3</th>\n",
       "      <td>3.0</td>\n",
       "      <td>0.0</td>\n",
       "      <td>2.0</td>\n",
       "      <td>2.0</td>\n",
       "    </tr>\n",
       "    <tr>\n",
       "      <th>4</th>\n",
       "      <td>2.0</td>\n",
       "      <td>0.0</td>\n",
       "      <td>2.0</td>\n",
       "      <td>2.0</td>\n",
       "    </tr>\n",
       "  </tbody>\n",
       "</table>\n",
       "</div>"
      ],
      "text/plain": [
       "   Climate Code  Pharmacy_IND  INCOME_CD  ETHNICITY_CD\n",
       "0           3.0           0.0        2.0           3.0\n",
       "1           2.0           0.0        1.0           1.0\n",
       "2           2.0           0.0        2.0           2.0\n",
       "3           3.0           0.0        2.0           2.0\n",
       "4           2.0           0.0        2.0           2.0"
      ]
     },
     "execution_count": 8,
     "metadata": {},
     "output_type": "execute_result"
    }
   ],
   "source": [
    "master_data.head()"
   ]
  },
  {
   "cell_type": "code",
   "execution_count": 9,
   "metadata": {},
   "outputs": [
    {
     "data": {
      "text/plain": [
       "(102, 4)"
      ]
     },
     "execution_count": 9,
     "metadata": {},
     "output_type": "execute_result"
    }
   ],
   "source": [
    "# drop null values\n",
    "master_data=master_data.dropna()\n",
    "master_data.shape"
   ]
  },
  {
   "cell_type": "code",
   "execution_count": 10,
   "metadata": {},
   "outputs": [],
   "source": [
    "#convert data frame in to array of required elements\n",
    "X = master_data.iloc[:,:].values\n"
   ]
  },
  {
   "cell_type": "code",
   "execution_count": 11,
   "metadata": {},
   "outputs": [
    {
     "data": {
      "image/png": "[encoded data removed]",
      "text/plain": [
       "<Figure size 432x288 with 1 Axes>"
      ]
     },
     "metadata": {
      "needs_background": "light"
     },
     "output_type": "display_data"
    }
   ],
   "source": [
    "#Elbow method to determine optimum number of clusters\n",
    "from sklearn.cluster import KMeans\n",
    "wcss = []\n",
    "for i in range(1, 8):\n",
    "    kmeans = KMeans(n_clusters = i, init = 'k-means++', random_state = 42)\n",
    "    kmeans.fit(X)\n",
    "    wcss.append(kmeans.inertia_)\n",
    "plt.plot(range(1, 8), wcss)\n",
    "plt.title('The Elbow Method')\n",
    "plt.xlabel('Number of clusters')\n",
    "plt.ylabel('WCSS')\n",
    "plt.show()"
   ]
  },
  {
   "cell_type": "code",
   "execution_count": 12,
   "metadata": {},
   "outputs": [],
   "source": [
    "#Predict the cluster type using K means clustering\n",
    "kmeans = KMeans(n_clusters = 5, init = 'k-means++', random_state = 42)\n",
    "y_kmeans = kmeans.fit_predict(X)"
   ]
  },
  {
   "cell_type": "code",
   "execution_count": 13,
   "metadata": {},
   "outputs": [
    {
     "name": "stdout",
     "output_type": "stream",
     "text": [
      "[1 3 3 4 3 0 1 2 0 4 3 3 1 2 1 3 1 2 3 1 3 3 2 0 0 3 2 4 4 3 2 1 3 3 3 0 4\n",
      " 0 3 1 3 3 4 4 2 3 2 3 0 0 0 4 3 1 3 0 4 2 3 3 3 4 2 2 3 1 3 3 3 3 1 0 1 3\n",
      " 2 4 0 2 1 3 0 4 4 0 0 4 0 1 3 0 0 0 0 0 1 0 0 1 0 1 1 2]\n"
     ]
    }
   ],
   "source": [
    "print(y_kmeans)"
   ]
  },
  {
   "cell_type": "code",
   "execution_count": 14,
   "metadata": {},
   "outputs": [],
   "source": [
    "master_data.insert(0,'cluster',y_kmeans)"
   ]
  }
 ],
 "metadata": {
  "kernelspec": {
   "display_name": "Python 3",
   "language": "python",
   "name": "python3"
  },
  "language_info": {
   "codemirror_mode": {
    "name": "ipython",
    "version": 3
   },
   "file_extension": ".py",
   "mimetype": "text/x-python",
   "name": "python",
   "nbconvert_exporter": "python",
   "pygments_lexer": "ipython3",
   "version": "3.7.3"
  }
 },
 "nbformat": 4,
 "nbformat_minor": 2
}
